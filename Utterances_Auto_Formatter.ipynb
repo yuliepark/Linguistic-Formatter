{
  "nbformat": 4,
  "nbformat_minor": 0,
  "metadata": {
    "colab": {
      "name": "Utterances Auto-Formatter.ipynb",
      "provenance": []
    },
    "kernelspec": {
      "name": "python3",
      "display_name": "Python 3"
    },
    "language_info": {
      "name": "python"
    }
  },
  "cells": [
    {
      "cell_type": "markdown",
      "metadata": {
        "id": "jKIUghXJqdpe"
      },
      "source": [
        "### **Overview**\n",
        "\n",
        "**Functionality:**\n",
        "\n",
        "Given one or more `.docx` file(s) of an unformatted transcript, output one or more `.xlsx` file(s) that:\n",
        "\n",
        "\n",
        "*   converts the unformatted transcript into a tabular form\n",
        "*   breaks up the transcript into utterances based on specified punctuation marks, e.g. ?!.\n",
        "\n",
        "Each `.docx` file will output exactly one `.xlsx` file, but more than one `.docx` files can be inputted to the program at a time to save repetitive manual inputs. Furthermore, a custom directory for the output files can be inputted in the case where the output files should be located in a different drive from that of the input files. However, only one custom directory can be defined, so output files cannot be relocated to two or more different directories.\n",
        "\n",
        "See the play and book reading examples in the *Demo* section.\n",
        "\n",
        "**Example:**\n",
        "\n",
        "Single file\n",
        "\n",
        "*   input file: [s2h8R4YENaZeNEnqm_Play_20190730_Text_clean_20200501.docx](https://docs.google.com/document/d/10CJCVZWi9H8WBuQd5zr1z4zZlsLMB-qX/edit?usp=sharing&ouid=118243912754580335163&rtpof=true&sd=true)\n",
        "*   output file: [s2h8R4YENaZeNEnqm_Play_Formatted_08242021_20190730_Cleaned_Text.xlsx](https://docs.google.com/spreadsheets/d/1-yI4Q8p4lLwW3TFeGJza5msxoYPiX4vN/edit?usp=sharing&ouid=118243912754580335163&rtpof=true&sd=true)\n",
        "\n",
        "Multiple files\n",
        "\n",
        "*   input file: [[4yzKmafHk3Zyckcdk_Bookreading_20190701_Text_clean_20200515.docx](https://docs.google.com/document/d/1kkZMpJunphoZFSZ7Y38FoJV0BhgV0FMF/edit?usp=sharing&ouid=118243912754580335163&rtpof=true&sd=true), [Wzto8KhNvw7eKBqww_Bookreading_20190724_Text_clean_20200501.docx](https://docs.google.com/document/d/1AnLLxZKOIzkehACtPf6U7AGT8l7Ud2-g/edit?usp=sharing&ouid=118243912754580335163&rtpof=true&sd=true)]\n",
        "*   output file: [[4yzKmafHk3Zyckcdk_Bookreading_Formatted_09052021_20190701_Cleaned_Text.xlsx](https://docs.google.com/spreadsheets/d/1-q_hNPlhQgdGUAdeM__ZkJbP6p6hYSnh/edit?usp=sharing&ouid=118243912754580335163&rtpof=true&sd=true), [Wzto8KhNvw7eKBqww_Bookreading_Formatted_09052021_20190724_Cleaned_Text.xlsx](https://docs.google.com/spreadsheets/d/1-HZeDtMN763le0aIDJUreR7c1h1cxZBx/edit?usp=sharing&ouid=118243912754580335163&rtpof=true&sd=true)]\n",
        "\n",
        "**Input file requirements:**\n",
        "\n",
        "\n",
        "*   The filename must be prefixed by id and task type in that order: \"*id_tasktype_...*\". \n",
        "  * For example: \"s2h8R4YENaZeNEnqm_Play_20190730_Text_clean_20200501.docx\" or \"s2h8R4YENaZeNEnqm_Play_Bilingual_Text_20190730_clean_20200501.docx\"\n",
        "*   The actual transcript content in the file must be preceded by \"Transcription results:\" as seen in the example input file above.\n",
        "*   This program is not language specific so it can work on both English and Spanish transcripts as well as in other languages.\n",
        "\n",
        "**How to use:**\n",
        "\n",
        "Follow the descriptions for each part and the green code comments. Edit all lines marked with \"TODO\"s with custom inputs.\n"
      ]
    },
    {
      "cell_type": "markdown",
      "metadata": {
        "id": "EFQ-r-XzHzJ3"
      },
      "source": [
        "### **Part I. Setup**\n",
        "\n",
        "\n",
        "Install and import all needed modules.\n",
        "\n"
      ]
    },
    {
      "cell_type": "code",
      "metadata": {
        "colab": {
          "base_uri": "https://localhost:8080/"
        },
        "id": "I_Mx1mphW_ff",
        "outputId": "0e454df2-027c-40e4-f483-d0f7558d19ed"
      },
      "source": [
        "# To read .docx file\n",
        "!pip install python-docx"
      ],
      "execution_count": 1,
      "outputs": [
        {
          "output_type": "stream",
          "name": "stdout",
          "text": [
            "Collecting python-docx\n",
            "  Downloading python-docx-0.8.11.tar.gz (5.6 MB)\n",
            "\u001b[K     |████████████████████████████████| 5.6 MB 4.4 MB/s \n",
            "\u001b[?25hRequirement already satisfied: lxml>=2.3.2 in /usr/local/lib/python3.7/dist-packages (from python-docx) (4.2.6)\n",
            "Building wheels for collected packages: python-docx\n",
            "  Building wheel for python-docx (setup.py) ... \u001b[?25l\u001b[?25hdone\n",
            "  Created wheel for python-docx: filename=python_docx-0.8.11-py3-none-any.whl size=184508 sha256=9506444590904c83f918decbcee1777a738d564970ebe764ce0aaa151d621689\n",
            "  Stored in directory: /root/.cache/pip/wheels/f6/6f/b9/d798122a8b55b74ad30b5f52b01482169b445fbb84a11797a6\n",
            "Successfully built python-docx\n",
            "Installing collected packages: python-docx\n",
            "Successfully installed python-docx-0.8.11\n"
          ]
        }
      ]
    },
    {
      "cell_type": "code",
      "metadata": {
        "id": "ujFwaLDYHsHB"
      },
      "source": [
        "import os\n",
        "import shutil\n",
        "import time\n",
        "import re\n",
        "import docx\n",
        "import pandas as pd"
      ],
      "execution_count": 2,
      "outputs": []
    },
    {
      "cell_type": "markdown",
      "metadata": {
        "id": "c_yxib3xtlV4"
      },
      "source": [
        "Set the current working directory to the drive folder containing the transcript docs to be inputted to this formatting program."
      ]
    },
    {
      "cell_type": "code",
      "metadata": {
        "id": "oGPxSrgLHxme",
        "colab": {
          "base_uri": "https://localhost:8080/"
        },
        "outputId": "54491bd0-3ed4-4c77-b012-123ad91041d9"
      },
      "source": [
        "# To access transcripts from local drive\n",
        "from google.colab import drive\n",
        "drive.mount('/content/drive')\n",
        "\n",
        "# TODO: Change the path accordingly!\n",
        "# For play\n",
        "input_path = \"/content/drive/MyDrive/Play/Play Transcripts Unformatted\"\n",
        "# For book reading\n",
        "input_path = \"/content/drive/MyDrive/Book reading/Book Reading Transcripts Word\"\n",
        "\n",
        "os.chdir(input_path)"
      ],
      "execution_count": 3,
      "outputs": [
        {
          "output_type": "stream",
          "name": "stdout",
          "text": [
            "Mounted at /content/drive\n"
          ]
        }
      ]
    },
    {
      "cell_type": "markdown",
      "metadata": {
        "id": "ztfzy7e20i-g"
      },
      "source": [
        "Set a custom directory for the output files."
      ]
    },
    {
      "cell_type": "code",
      "metadata": {
        "id": "i7oB6-UK0SlB"
      },
      "source": [
        "# TODO: Change the path accordingly!\n",
        "# For play\n",
        "output_path = \"/content/drive/MyDrive/Play/Play Formatted Transcripts Spreadsheet\"\n",
        "# For book reading\n",
        "output_path = \"/content/drive/MyDrive/Book reading/Book Reading Transcripts Spreadsheet\""
      ],
      "execution_count": null,
      "outputs": []
    },
    {
      "cell_type": "markdown",
      "metadata": {
        "id": "MsT46G7_H5w6"
      },
      "source": [
        "### **Part II. Format Transcript Into Utterances**"
      ]
    },
    {
      "cell_type": "code",
      "metadata": {
        "id": "xz41FmV7tt6A"
      },
      "source": [
        "def get_output_filename(input_filename):\n",
        "  id, task_type, *other = input_filename.split('_')\n",
        "  transcribed_date = None\n",
        "  for token in other:\n",
        "    if token.isnumeric():\n",
        "      transcribed_date = token\n",
        "      break\n",
        "  today_date = time.strftime(\"%m%d%Y\")\n",
        "\n",
        "  if 'Bilingual' in input_filename:\n",
        "    return '_'.join([id, task_type, \"Bilingual\", \"Formatted\", today_date, transcribed_date, \"Cleaned\", \"Text.xlsx\"])\n",
        "  else:\n",
        "    return '_'.join([id, task_type, \"Formatted\", today_date, transcribed_date, \"Cleaned\", \"Text.xlsx\"])"
      ],
      "execution_count": 8,
      "outputs": []
    },
    {
      "cell_type": "code",
      "metadata": {
        "colab": {
          "base_uri": "https://localhost:8080/",
          "height": 35
        },
        "id": "IDYVrYGfxnNa",
        "outputId": "4ff7416e-2946-48a8-afde-8329dc60fe11"
      },
      "source": [
        "# Example with bilingual transcript\n",
        "get_output_filename(\"6eKvaXeyFoAjdbf3k_Play_Bilingual_Formatted_06292021_20190621_Cleaned_Text.docx\")"
      ],
      "execution_count": 9,
      "outputs": [
        {
          "output_type": "execute_result",
          "data": {
            "application/vnd.google.colaboratory.intrinsic+json": {
              "type": "string"
            },
            "text/plain": [
              "'6eKvaXeyFoAjdbf3k_Play_Bilingual_Formatted_09052021_06292021_Cleaned_Text.xlsx'"
            ]
          },
          "metadata": {},
          "execution_count": 9
        }
      ]
    },
    {
      "cell_type": "code",
      "metadata": {
        "id": "2aZpyvgUu6e7"
      },
      "source": [
        "def format_into_utterances(input_file):\n",
        "  # Prepare to read the input file\n",
        "  doc = docx.Document(input_file)\n",
        "\n",
        "  # Utterance table that will eventually contain all formatted utterances\n",
        "  df = None\n",
        "\n",
        "  # Indicator for having started reading the transcript content \n",
        "  # i.e. after the metadata header of date, participants, transcript ID, etc.\n",
        "  begin_transcript = False\n",
        "\n",
        "  # Read line by line from the input file\n",
        "  for i in doc.paragraphs:\n",
        "    # print(\"inside 2\")\n",
        "    # print(i.text + \"dummy\")\n",
        "\n",
        "    # If line read indicates the start of the transcript content\n",
        "    if \"Transcription results:\" in i.text:\n",
        "      begin_transcript = True\n",
        "      continue\n",
        "\n",
        "    # If line is part of the transcript content and actually contains words\n",
        "    if begin_transcript and i.text:\n",
        "      # print(\"inside\")\n",
        "      # Split line into [speaker, words]. Note that speaker includes the \n",
        "      # timestamp, e.g. \"Mother 00:00\"\n",
        "      tokenized = i.text.split(sep='\\t')\n",
        "      speaker = tokenized[0]\n",
        "      # Split words into utterances based on punctuation\n",
        "      utterances = re.split('(?<=[.!?]) +', tokenized[1])\n",
        "\n",
        "      # Each utterance will be a separate row in the utterance table.\n",
        "      # Since the table requires two columns (\"Speaker\" and \"Words\"),\n",
        "      # this means that an utterance must have a speaker, either like \n",
        "      # \"Mother 00:00\" or a dummy filler ''\n",
        "      num_utterances = len(utterances)\n",
        "      if num_utterances > 1:\n",
        "        speaker = [speaker] + [''] * (num_utterances - 1)\n",
        "\n",
        "      # Append the new list of utterances and their associated speaker to\n",
        "      # the existing utterance table\n",
        "      row_dict = {\"Speaker\": speaker, \"Words\": utterances}\n",
        "      new_df = pd.DataFrame(row_dict)\n",
        "      df = pd.concat([df, new_df], ignore_index=True)\n",
        "\n",
        "  # Prepare to write to the output file\n",
        "  f = open(output_file, \"w\")\n",
        "\n",
        "  # Write the formatted transcript (which is in table form)\n",
        "  df.to_excel(output_file, index=False, header=False)\n",
        "\n",
        "  return df"
      ],
      "execution_count": null,
      "outputs": []
    },
    {
      "cell_type": "code",
      "metadata": {
        "id": "F3M8zBA8lFwI"
      },
      "source": [
        "def move_output_files_to(directory):\n",
        "  for filename in os.listdir(os.getcwd()):\n",
        "    if \".xlsx\" in filename:\n",
        "      shutil.move(filename, directory)"
      ],
      "execution_count": null,
      "outputs": []
    },
    {
      "cell_type": "markdown",
      "metadata": {
        "id": "MMWHUgJGg4LW"
      },
      "source": [
        "### **Part III. Demo**"
      ]
    },
    {
      "cell_type": "markdown",
      "metadata": {
        "id": "yPqsELKJtukI"
      },
      "source": [
        "Input the transcript file(s) to be formatted."
      ]
    },
    {
      "cell_type": "code",
      "metadata": {
        "id": "YUwB2AKbbTTe"
      },
      "source": [
        "# COMMENT OUT IF USING BOOK READING\n",
        "# For play\n",
        "# input_file = \"s2h8R4YENaZeNEnqm_Play_20190730_Text_clean_20200501.docx\"\n",
        "# output_file = get_output_filename(input_file)\n",
        "# df = format_into_utterances(input_file)\n",
        "# df"
      ],
      "execution_count": null,
      "outputs": []
    },
    {
      "cell_type": "code",
      "metadata": {
        "colab": {
          "base_uri": "https://localhost:8080/",
          "height": 640
        },
        "id": "GY3Wc-H_ecAK",
        "outputId": "a8df8a90-3b68-41ec-dba0-421fdb2e101b"
      },
      "source": [
        "# COMMENT OUT IF USING PLAY\n",
        "# For book reading\n",
        "input_file_ids = [\"4yzKmafHk3Zyckcdk\", \n",
        "                  \"7tfqwquuWmhXsBvh3\",\n",
        "                  \"8Y2QGv8gWFFrZjCw3\",\n",
        "                  \"ABK3ZCr9iYCwFj8B9\",\n",
        "                  \"FAhxZzRvAnGpkHc2T\",\n",
        "                  \"TWAbYzhZiLxj4e9o7\",\n",
        "                  # \"W8JasNsGRtYQSAXQh\", <-- not able to parse for some reason...\n",
        "                  \"Wzto8KhNvw7eKBqww\",\n",
        "                  \"aa67icGii4hSGxjWs\",\n",
        "                  \"bqzz2LWhDJS9MMdRt\",\n",
        "                  \"d8jweRx4u4gxFJxST\",\n",
        "                  \"dcZ3RapxdkETMgBf9\",\n",
        "                  \"embb8jnivTFR6Y5yK\",\n",
        "                  \"guEAkx2MXqFKmxq7Y\",\n",
        "                  \"jL9ot7JgnxEuPE3k4\"\n",
        "                  ]\n",
        "\n",
        "for filename in os.listdir(os.getcwd()):\n",
        "  tokenized = filename.split('_')\n",
        "  if tokenized[0] in input_file_ids and \".docx\" in filename:\n",
        "    output_file = get_output_filename(filename)\n",
        "    print(\"Done: \", output_file)\n",
        "    df = format_into_utterances(filename)\n",
        "\n",
        "move_output_files_to(output_path)\n",
        "\n",
        "df # <-- Utterance table for the last input file"
      ],
      "execution_count": null,
      "outputs": [
        {
          "output_type": "stream",
          "name": "stdout",
          "text": [
            "Done:  TWAbYzhZiLxj4e9o7_Bookreading_Formatted_09052021_20190726_Cleaned_Text.xlsx\n",
            "Done:  Wzto8KhNvw7eKBqww_Bookreading_Formatted_09052021_20190724_Cleaned_Text.xlsx\n",
            "Done:  d8jweRx4u4gxFJxST_Bookreading_Formatted_09052021_20190719_Cleaned_Text.xlsx\n",
            "Done:  dcZ3RapxdkETMgBf9_Bookreading_Formatted_09052021_20190701_Cleaned_Text.xlsx\n",
            "Done:  FAhxZzRvAnGpkHc2T_Bookreading_Formatted_09052021_20190809_Cleaned_Text.xlsx\n",
            "Done:  guEAkx2MXqFKmxq7Y_Bookreading_Formatted_09052021_20190707_Cleaned_Text.xlsx\n",
            "Done:  7tfqwquuWmhXsBvh3_Bookreading_Formatted_09052021_20190719_Cleaned_Text.xlsx\n",
            "Done:  8Y2QGv8gWFFrZjCw3_Bookreading_Formatted_09052021_20190624_Cleaned_Text.xlsx\n",
            "Done:  aa67icGii4hSGxjWs_Bookreading_Formatted_09052021_20190615_Cleaned_Text.xlsx\n",
            "Done:  ABK3ZCr9iYCwFj8B9_Bookreading_Formatted_09052021_20190628_Cleaned_Text.xlsx\n",
            "Done:  bqzz2LWhDJS9MMdRt_Bookreading_Formatted_09052021_20190807_Cleaned_Text.xlsx\n",
            "Done:  jL9ot7JgnxEuPE3k4_Bookreading_Formatted_09052021_20190721_Cleaned_Text.xlsx\n",
            "Done:  4yzKmafHk3Zyckcdk_Bookreading_Formatted_09052021_20190701_Cleaned_Text.xlsx\n"
          ]
        },
        {
          "output_type": "execute_result",
          "data": {
            "text/html": [
              "<div>\n",
              "<style scoped>\n",
              "    .dataframe tbody tr th:only-of-type {\n",
              "        vertical-align: middle;\n",
              "    }\n",
              "\n",
              "    .dataframe tbody tr th {\n",
              "        vertical-align: top;\n",
              "    }\n",
              "\n",
              "    .dataframe thead th {\n",
              "        text-align: right;\n",
              "    }\n",
              "</style>\n",
              "<table border=\"1\" class=\"dataframe\">\n",
              "  <thead>\n",
              "    <tr style=\"text-align: right;\">\n",
              "      <th></th>\n",
              "      <th>Speaker</th>\n",
              "      <th>Words</th>\n",
              "    </tr>\n",
              "  </thead>\n",
              "  <tbody>\n",
              "    <tr>\n",
              "      <th>0</th>\n",
              "      <td>Researcher 13:06</td>\n",
              "      <td>All right.</td>\n",
              "    </tr>\n",
              "    <tr>\n",
              "      <th>1</th>\n",
              "      <td></td>\n",
              "      <td>So this last activity, I'm going to give you t...</td>\n",
              "    </tr>\n",
              "    <tr>\n",
              "      <th>2</th>\n",
              "      <td></td>\n",
              "      <td>And I'll give you five minutes for this activity.</td>\n",
              "    </tr>\n",
              "    <tr>\n",
              "      <th>3</th>\n",
              "      <td></td>\n",
              "      <td>Does that sound good?</td>\n",
              "    </tr>\n",
              "    <tr>\n",
              "      <th>4</th>\n",
              "      <td>Child 13:19</td>\n",
              "      <td>Okay.</td>\n",
              "    </tr>\n",
              "    <tr>\n",
              "      <th>...</th>\n",
              "      <td>...</td>\n",
              "      <td>...</td>\n",
              "    </tr>\n",
              "    <tr>\n",
              "      <th>132</th>\n",
              "      <td></td>\n",
              "      <td>[crosstalk]--</td>\n",
              "    </tr>\n",
              "    <tr>\n",
              "      <th>133</th>\n",
              "      <td>Mother 18:39</td>\n",
              "      <td>Yeah, I want to know what happens.</td>\n",
              "    </tr>\n",
              "    <tr>\n",
              "      <th>134</th>\n",
              "      <td>Researcher 18:40</td>\n",
              "      <td>Yeah.</td>\n",
              "    </tr>\n",
              "    <tr>\n",
              "      <th>135</th>\n",
              "      <td></td>\n",
              "      <td>Yeah.</td>\n",
              "    </tr>\n",
              "    <tr>\n",
              "      <th>136</th>\n",
              "      <td>Mother 18:41</td>\n",
              "      <td>Because I want to [crosstalk].</td>\n",
              "    </tr>\n",
              "  </tbody>\n",
              "</table>\n",
              "<p>137 rows × 2 columns</p>\n",
              "</div>"
            ],
            "text/plain": [
              "              Speaker                                              Words\n",
              "0    Researcher 13:06                                         All right.\n",
              "1                      So this last activity, I'm going to give you t...\n",
              "2                      And I'll give you five minutes for this activity.\n",
              "3                                                  Does that sound good?\n",
              "4         Child 13:19                                              Okay.\n",
              "..                ...                                                ...\n",
              "132                                                        [crosstalk]--\n",
              "133      Mother 18:39                 Yeah, I want to know what happens.\n",
              "134  Researcher 18:40                                              Yeah.\n",
              "135                                                                Yeah.\n",
              "136      Mother 18:41                     Because I want to [crosstalk].\n",
              "\n",
              "[137 rows x 2 columns]"
            ]
          },
          "metadata": {},
          "execution_count": 60
        }
      ]
    },
    {
      "cell_type": "code",
      "metadata": {
        "colab": {
          "base_uri": "https://localhost:8080/",
          "height": 283
        },
        "id": "vMQh5YQGiqUa",
        "outputId": "a19e650e-1638-4276-aeaf-139931818346"
      },
      "source": [
        "format_into_utterances(\"W8JasNsGRtYQSAXQh_Bookreading_20190702_Text_clean_00000000.docx\")"
      ],
      "execution_count": null,
      "outputs": [
        {
          "output_type": "error",
          "ename": "AttributeError",
          "evalue": "ignored",
          "traceback": [
            "\u001b[0;31m---------------------------------------------------------------------------\u001b[0m",
            "\u001b[0;31mAttributeError\u001b[0m                            Traceback (most recent call last)",
            "\u001b[0;32m<ipython-input-54-d4a815bda816>\u001b[0m in \u001b[0;36m<module>\u001b[0;34m()\u001b[0m\n\u001b[0;32m----> 1\u001b[0;31m \u001b[0mformat_into_utterances\u001b[0m\u001b[0;34m(\u001b[0m\u001b[0;34m\"W8JasNsGRtYQSAXQh_Bookreading_20190702_Text_clean_00000000.docx\"\u001b[0m\u001b[0;34m)\u001b[0m\u001b[0;34m\u001b[0m\u001b[0;34m\u001b[0m\u001b[0m\n\u001b[0m",
            "\u001b[0;32m<ipython-input-53-f49f1eaf82cb>\u001b[0m in \u001b[0;36mformat_into_utterances\u001b[0;34m(input_file)\u001b[0m\n\u001b[1;32m     48\u001b[0m \u001b[0;34m\u001b[0m\u001b[0m\n\u001b[1;32m     49\u001b[0m   \u001b[0;31m# Write the formatted transcript (which is in table form)\u001b[0m\u001b[0;34m\u001b[0m\u001b[0;34m\u001b[0m\u001b[0;34m\u001b[0m\u001b[0m\n\u001b[0;32m---> 50\u001b[0;31m   \u001b[0mdf\u001b[0m\u001b[0;34m.\u001b[0m\u001b[0mto_excel\u001b[0m\u001b[0;34m(\u001b[0m\u001b[0moutput_file\u001b[0m\u001b[0;34m,\u001b[0m \u001b[0mindex\u001b[0m\u001b[0;34m=\u001b[0m\u001b[0;32mFalse\u001b[0m\u001b[0;34m,\u001b[0m \u001b[0mheader\u001b[0m\u001b[0;34m=\u001b[0m\u001b[0;32mFalse\u001b[0m\u001b[0;34m)\u001b[0m\u001b[0;34m\u001b[0m\u001b[0;34m\u001b[0m\u001b[0m\n\u001b[0m\u001b[1;32m     51\u001b[0m \u001b[0;34m\u001b[0m\u001b[0m\n\u001b[1;32m     52\u001b[0m   \u001b[0;32mreturn\u001b[0m \u001b[0mdf\u001b[0m\u001b[0;34m\u001b[0m\u001b[0;34m\u001b[0m\u001b[0m\n",
            "\u001b[0;31mAttributeError\u001b[0m: 'NoneType' object has no attribute 'to_excel'"
          ]
        }
      ]
    }
  ]
}